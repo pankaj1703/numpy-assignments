{
 "cells": [
  {
   "cell_type": "raw",
   "id": "a4364acc-95ad-4ed8-92a8-eeeff531e876",
   "metadata": {},
   "source": [
    "1. Create a 3x3 NumPy array with random integers between 1 and 100. Then, interchange its rows and columns."
   ]
  },
  {
   "cell_type": "code",
   "execution_count": null,
   "id": "916d7a17-6dd7-452d-8a44-4be9f2de815e",
   "metadata": {},
   "outputs": [],
   "source": [
    "Answer:-"
   ]
  },
  {
   "cell_type": "code",
   "execution_count": 1,
   "id": "079881b3-2220-41bd-a590-989f4118290a",
   "metadata": {},
   "outputs": [
    {
     "name": "stdout",
     "output_type": "stream",
     "text": [
      "Original array:\n",
      "[[65  9 96]\n",
      " [88 79 33]\n",
      " [75 65 88]]\n",
      "\n",
      "Transposed array:\n",
      "[[65 88 75]\n",
      " [ 9 79 65]\n",
      " [96 33 88]]\n"
     ]
    }
   ],
   "source": [
    "import numpy as np\n",
    "\n",
    "\n",
    "arr = np.random.randint(1, 101, size=(3, 3))\n",
    "print(\"Original array:\")\n",
    "print(arr)\n",
    "\n",
    "\n",
    "arr_transposed = arr.T\n",
    "print(\"\\nTransposed array:\")\n",
    "print(arr_transposed)\n"
   ]
  },
  {
   "cell_type": "raw",
   "id": "1bcd40a1-e3c5-46e1-a39f-03f4d294120e",
   "metadata": {},
   "source": [
    "2. Generate a 1D NumPy array with 10 elements. Reshape it into a 2x5 array, then into a 5x2 array."
   ]
  },
  {
   "cell_type": "raw",
   "id": "70fa24cf-612e-407a-8ddd-56a1a3b8ad90",
   "metadata": {},
   "source": [
    "Answer:-"
   ]
  },
  {
   "cell_type": "code",
   "execution_count": 3,
   "id": "a62e5202-4498-41e9-b418-d04c2ca7a08c",
   "metadata": {},
   "outputs": [
    {
     "name": "stdout",
     "output_type": "stream",
     "text": [
      "Original 1D array:\n",
      "[ 1  2  3  4  5  6  7  8  9 10]\n",
      "\n",
      "Reshaped into 2x5 array:\n",
      "[[ 1  2  3  4  5]\n",
      " [ 6  7  8  9 10]]\n",
      "\n",
      "Reshaped into 5x2 array:\n",
      "[[ 1  2]\n",
      " [ 3  4]\n",
      " [ 5  6]\n",
      " [ 7  8]\n",
      " [ 9 10]]\n"
     ]
    }
   ],
   "source": [
    "import numpy as np\n",
    "\n",
    "#\n",
    "arr = np.arange(1, 11)\n",
    "print(\"Original 1D array:\")\n",
    "print(arr)\n",
    "\n",
    "\n",
    "arr_2x5 = arr.reshape(2, 5)\n",
    "print(\"\\nReshaped into 2x5 array:\")\n",
    "print(arr_2x5)\n",
    "\n",
    "\n",
    "arr_5x2 = arr.reshape(5, 2)\n",
    "print(\"\\nReshaped into 5x2 array:\")\n",
    "print(arr_5x2)\n"
   ]
  },
  {
   "cell_type": "raw",
   "id": "13a42606-1867-435e-be20-f0070b62e82c",
   "metadata": {},
   "source": [
    "3. Create a 4x4 NumPy array with random float values. Add a border of zeros around it, resulting in a 6x6 array"
   ]
  },
  {
   "cell_type": "raw",
   "id": "d8229a66-e466-4e53-946c-fade309afb5f",
   "metadata": {},
   "source": [
    "Answer:-"
   ]
  },
  {
   "cell_type": "code",
   "execution_count": 5,
   "id": "be8e84d1-c904-4fdb-acf6-fe2d1c9105a9",
   "metadata": {},
   "outputs": [
    {
     "name": "stdout",
     "output_type": "stream",
     "text": [
      "Original 4x4 array:\n",
      "[[0.68258084 0.00258397 0.18526558 0.81656826]\n",
      " [0.00339629 0.91726209 0.84463774 0.03526754]\n",
      " [0.56386678 0.80222485 0.64086624 0.57809499]\n",
      " [0.50448213 0.61183334 0.84388739 0.52346946]]\n",
      "\n",
      "Array with border of zeros (6x6):\n",
      "[[0.         0.         0.         0.         0.         0.        ]\n",
      " [0.         0.68258084 0.00258397 0.18526558 0.81656826 0.        ]\n",
      " [0.         0.00339629 0.91726209 0.84463774 0.03526754 0.        ]\n",
      " [0.         0.56386678 0.80222485 0.64086624 0.57809499 0.        ]\n",
      " [0.         0.50448213 0.61183334 0.84388739 0.52346946 0.        ]\n",
      " [0.         0.         0.         0.         0.         0.        ]]\n"
     ]
    }
   ],
   "source": [
    "import numpy as np\n",
    "\n",
    "\n",
    "arr = np.random.random((4, 4))\n",
    "print(\"Original 4x4 array:\")\n",
    "print(arr)\n",
    "\n",
    "\n",
    "arr_with_border = np.pad(arr, pad_width=1, mode='constant', constant_values=0)\n",
    "print(\"\\nArray with border of zeros (6x6):\")\n",
    "print(arr_with_border)\n"
   ]
  },
  {
   "cell_type": "raw",
   "id": "b3d59e01-2a2b-45df-bfb7-ac15e10149da",
   "metadata": {},
   "source": [
    "4. Using NumPy, create an array of integers from 10 to 60 with a step of 5."
   ]
  },
  {
   "cell_type": "raw",
   "id": "7d5c0791-9cf0-44ea-a158-a44a60f6a9ec",
   "metadata": {},
   "source": [
    "Answer:-"
   ]
  },
  {
   "cell_type": "code",
   "execution_count": 7,
   "id": "c58e83da-c3be-45e7-9f12-527dd6ac33fd",
   "metadata": {},
   "outputs": [
    {
     "name": "stdout",
     "output_type": "stream",
     "text": [
      "[10 15 20 25 30 35 40 45 50 55 60]\n"
     ]
    }
   ],
   "source": [
    "import numpy as np\n",
    "\n",
    "\n",
    "arr = np.arange(10, 61, 5)\n",
    "print(arr)\n"
   ]
  },
  {
   "cell_type": "raw",
   "id": "624d7e95-2307-4a12-af49-f2883bc1ad53",
   "metadata": {},
   "source": [
    "5. Create a NumPy array of strings ['python', 'numpy', 'pandas']. Apply different case transformations\n",
    "(uppercase, lowercase, title case, etc.) to each element."
   ]
  },
  {
   "cell_type": "raw",
   "id": "e1787c13-bcfb-4422-a611-d629d2fd7cb9",
   "metadata": {},
   "source": [
    "Answer:-"
   ]
  },
  {
   "cell_type": "code",
   "execution_count": 9,
   "id": "cdf4cc2a-3eb2-4428-8aec-a5d89ea079a3",
   "metadata": {},
   "outputs": [
    {
     "name": "stdout",
     "output_type": "stream",
     "text": [
      "Original array:\n",
      "['python' 'numpy' 'pandas']\n",
      "\n",
      "Uppercase:\n",
      "['PYTHON' 'NUMPY' 'PANDAS']\n",
      "\n",
      "Lowercase:\n",
      "['python' 'numpy' 'pandas']\n",
      "\n",
      "Title case:\n",
      "['Python' 'Numpy' 'Pandas']\n",
      "\n",
      "Capitalize:\n",
      "['Python' 'Numpy' 'Pandas']\n"
     ]
    }
   ],
   "source": [
    "import numpy as np\n",
    "\n",
    "\n",
    "arr = np.array(['python', 'numpy', 'pandas'])\n",
    "\n",
    "\n",
    "uppercase = np.char.upper(arr)\n",
    "lowercase = np.char.lower(arr)\n",
    "titlecase = np.char.title(arr)\n",
    "capitalize = np.char.capitalize(arr)\n",
    "\n",
    "# Print results\n",
    "print(\"Original array:\")\n",
    "print(arr)\n",
    "\n",
    "print(\"\\nUppercase:\")\n",
    "print(uppercase)\n",
    "\n",
    "print(\"\\nLowercase:\")\n",
    "print(lowercase)\n",
    "\n",
    "print(\"\\nTitle case:\")\n",
    "print(titlecase)\n",
    "\n",
    "print(\"\\nCapitalize:\")\n",
    "print(capitalize)\n"
   ]
  },
  {
   "cell_type": "raw",
   "id": "64909b12-4984-4164-80f1-daca7f085700",
   "metadata": {},
   "source": [
    "6. Generate a NumPy array of words. Insert a space between each character of every word in the array"
   ]
  },
  {
   "cell_type": "code",
   "execution_count": null,
   "id": "4f254e40-38c7-4646-95cd-30ef0e6ed7ba",
   "metadata": {},
   "outputs": [],
   "source": [
    "Answer:-"
   ]
  },
  {
   "cell_type": "code",
   "execution_count": 11,
   "id": "7810f486-9388-4e43-8d99-3b459d5e2ad0",
   "metadata": {},
   "outputs": [
    {
     "name": "stdout",
     "output_type": "stream",
     "text": [
      "Original words:\n",
      "['python' 'numpy' 'pandas']\n",
      "\n",
      "Words with spaces between characters:\n",
      "[' python' ' numpy' ' pandas']\n"
     ]
    }
   ],
   "source": [
    "import numpy as np\n",
    "\n",
    "words = np.array(['python', 'numpy', 'pandas'])\n",
    "\n",
    "\n",
    "words_with_spaces = np.char.add(' ', np.char.add(words, ''))\n",
    "print(\"Original words:\")\n",
    "print(words)\n",
    "\n",
    "print(\"\\nWords with spaces between characters:\")\n",
    "print(words_with_spaces)\n"
   ]
  },
  {
   "cell_type": "raw",
   "id": "cb050c7a-273d-4edf-89fd-327b7eb5b11e",
   "metadata": {},
   "source": [
    "7. Create two 2D NumPy arrays and perform element-wise addition, subtraction, multiplication, and division."
   ]
  },
  {
   "cell_type": "code",
   "execution_count": null,
   "id": "fc0b5f88-40b2-4247-93fd-fc0767974ba5",
   "metadata": {},
   "outputs": [],
   "source": [
    "Answer:-"
   ]
  },
  {
   "cell_type": "code",
   "execution_count": 15,
   "id": "cfd1b1bf-2b77-4950-8524-6e0c98c935ba",
   "metadata": {},
   "outputs": [
    {
     "name": "stdout",
     "output_type": "stream",
     "text": [
      "Array 1:\n",
      "[[1 2 3]\n",
      " [4 5 6]\n",
      " [7 8 9]]\n",
      "\n",
      "Array 2:\n",
      "[[9 8 7]\n",
      " [6 5 4]\n",
      " [3 2 1]]\n",
      "\n",
      "Element-wise addition:\n",
      "[[10 10 10]\n",
      " [10 10 10]\n",
      " [10 10 10]]\n",
      "\n",
      "Element-wise subtraction:\n",
      "[[-8 -6 -4]\n",
      " [-2  0  2]\n",
      " [ 4  6  8]]\n",
      "\n",
      "Element-wise multiplication:\n",
      "[[ 9 16 21]\n",
      " [24 25 24]\n",
      " [21 16  9]]\n",
      "\n",
      "Element-wise division:\n",
      "[[0.11111111 0.25       0.42857143]\n",
      " [0.66666667 1.         1.5       ]\n",
      " [2.33333333 4.         9.        ]]\n"
     ]
    }
   ],
   "source": [
    "import numpy as np\n",
    "\n",
    "arr1 = np.array([[1, 2, 3], [4, 5, 6], [7, 8, 9]])\n",
    "arr2 = np.array([[9, 8, 7], [6, 5, 4], [3, 2, 1]])\n",
    "\n",
    "\n",
    "addition = arr1 + arr2\n",
    "\n",
    "\n",
    "subtraction = arr1 - arr2\n",
    "\n",
    "\n",
    "multiplication = arr1 * arr2\n",
    "\n",
    "\n",
    "division = np.divide(arr1, arr2)\n",
    "\n",
    "# Print results\n",
    "print(\"Array 1:\")\n",
    "print(arr1)\n",
    "\n",
    "print(\"\\nArray 2:\")\n",
    "print(arr2)\n",
    "\n",
    "print(\"\\nElement-wise addition:\")\n",
    "print(addition)\n",
    "\n",
    "print(\"\\nElement-wise subtraction:\")\n",
    "print(subtraction)\n",
    "\n",
    "print(\"\\nElement-wise multiplication:\")\n",
    "print(multiplication)\n",
    "\n",
    "print(\"\\nElement-wise division:\")\n",
    "print(division)\n"
   ]
  },
  {
   "cell_type": "raw",
   "id": "df758bf2-0593-45c6-b76c-8b9c435710c0",
   "metadata": {},
   "source": [
    "8. Use NumPy to create a 5x5 identity matrix, then extract its diagonal elements."
   ]
  },
  {
   "cell_type": "code",
   "execution_count": null,
   "id": "299da84f-368d-4a95-89fd-67783eba86f3",
   "metadata": {},
   "outputs": [],
   "source": [
    "Answer:-"
   ]
  },
  {
   "cell_type": "code",
   "execution_count": 17,
   "id": "b5d9fe6e-70bc-4297-988a-213eee91eb85",
   "metadata": {},
   "outputs": [
    {
     "name": "stdout",
     "output_type": "stream",
     "text": [
      "5x5 Identity Matrix:\n",
      "[[1. 0. 0. 0. 0.]\n",
      " [0. 1. 0. 0. 0.]\n",
      " [0. 0. 1. 0. 0.]\n",
      " [0. 0. 0. 1. 0.]\n",
      " [0. 0. 0. 0. 1.]]\n",
      "\n",
      "Diagonal elements:\n",
      "[1. 1. 1. 1. 1.]\n"
     ]
    }
   ],
   "source": [
    "import numpy as np\n",
    "\n",
    "identity_matrix = np.eye(5)\n",
    "print(\"5x5 Identity Matrix:\")\n",
    "print(identity_matrix)\n",
    "\n",
    "\n",
    "diagonal_elements = np.diagonal(identity_matrix)\n",
    "print(\"\\nDiagonal elements:\")\n",
    "print(diagonal_elements)\n"
   ]
  },
  {
   "cell_type": "raw",
   "id": "6d10b895-a46a-4521-aebb-2dc2cdb1aa9c",
   "metadata": {},
   "source": [
    "9. Generate a NumPy array of 100 random integers between 0 and 1000. Find and display all prime numbers in\n",
    "this array."
   ]
  },
  {
   "cell_type": "code",
   "execution_count": null,
   "id": "ad0c51e0-5c80-42e2-bd6d-118954ade14f",
   "metadata": {},
   "outputs": [],
   "source": [
    "Answer:-"
   ]
  },
  {
   "cell_type": "code",
   "execution_count": 23,
   "id": "7f552364-3451-426d-a5e9-8016fbf2f705",
   "metadata": {},
   "outputs": [
    {
     "name": "stdout",
     "output_type": "stream",
     "text": [
      "Random numbers array:\n",
      "[896 274 836  45  30 534 959  96 880 310  70 921 281 531 757 566 956   6\n",
      "  82 525 378 891 373  99 979 992 965 139  72 822  35 585 968 477 808 407\n",
      " 389 540  29 393 875 686 481 750 249 996 940 645 765 528 119   3 189 780\n",
      " 561  43 645 161 184 701 537 400  42 425 244 870 177 977 599 949 201 268\n",
      " 111 189 754 918 468 923 123 591 926 462 763 845 377 115 868 632 463 199\n",
      " 603 595  25 476 853  97 483 602 209 376]\n",
      "\n",
      "Prime numbers in the array:\n",
      "[281, 757, 373, 139, 389, 29, 3, 43, 701, 977, 599, 463, 199, 853, 97]\n"
     ]
    }
   ],
   "source": [
    "import numpy as np\n",
    "\n",
    "\n",
    "def is_prime(n):\n",
    "    if n <= 1:\n",
    "        return False\n",
    "    for i in range(2, int(np.sqrt(n)) + 1):\n",
    "        if n % i == 0:\n",
    "            return False\n",
    "    return True\n",
    "\n",
    "random_numbers = np.random.randint(0, 1001, 100)\n",
    "\n",
    "prime_numbers = [num for num in random_numbers if is_prime(num)]\n",
    "\n",
    "print(\"Random numbers array:\")\n",
    "print(random_numbers)\n",
    "\n",
    "print(\"\\nPrime numbers in the array:\")\n",
    "print(prime_numbers)\n"
   ]
  },
  {
   "cell_type": "raw",
   "id": "bc4e4e17-0a64-4e2f-8335-00fb58db2fbb",
   "metadata": {},
   "source": [
    "10. Create a NumPy array representing daily temperatures for a month. Calculate and display the weekly\n",
    "averages."
   ]
  },
  {
   "cell_type": "code",
   "execution_count": null,
   "id": "ad37c323-cceb-455d-be47-a387de3768f3",
   "metadata": {},
   "outputs": [],
   "source": [
    "Answer:-"
   ]
  },
  {
   "cell_type": "code",
   "execution_count": 27,
   "id": "72e87d29-e8d0-4755-88b1-7ecb2439bf28",
   "metadata": {},
   "outputs": [
    {
     "name": "stdout",
     "output_type": "stream",
     "text": [
      "Daily temperatures for the month:\n",
      "[27 34 25 26 24 28 17 27 34 17 29 31 15 29 22 32 32 30 22 34 25 35 22 18\n",
      " 30 29 33 32 16 20]\n"
     ]
    },
    {
     "ename": "ValueError",
     "evalue": "cannot reshape array of size 30 into shape (4,7)",
     "output_type": "error",
     "traceback": [
      "\u001b[1;31m---------------------------------------------------------------------------\u001b[0m",
      "\u001b[1;31mValueError\u001b[0m                                Traceback (most recent call last)",
      "Cell \u001b[1;32mIn[27], line 9\u001b[0m\n\u001b[0;32m      5\u001b[0m \u001b[38;5;28mprint\u001b[39m(\u001b[38;5;124m\"\u001b[39m\u001b[38;5;124mDaily temperatures for the month:\u001b[39m\u001b[38;5;124m\"\u001b[39m)\n\u001b[0;32m      6\u001b[0m \u001b[38;5;28mprint\u001b[39m(daily_temperatures)\n\u001b[1;32m----> 9\u001b[0m weekly_temperatures \u001b[38;5;241m=\u001b[39m daily_temperatures\u001b[38;5;241m.\u001b[39mreshape(\u001b[38;5;241m4\u001b[39m, \u001b[38;5;241m7\u001b[39m)\n\u001b[0;32m     12\u001b[0m weekly_averages \u001b[38;5;241m=\u001b[39m np\u001b[38;5;241m.\u001b[39mmean(weekly_temperatures, axis\u001b[38;5;241m=\u001b[39m\u001b[38;5;241m1\u001b[39m)\n\u001b[0;32m     14\u001b[0m \u001b[38;5;28mprint\u001b[39m(\u001b[38;5;124m\"\u001b[39m\u001b[38;5;130;01m\\n\u001b[39;00m\u001b[38;5;124mWeekly averages of temperatures:\u001b[39m\u001b[38;5;124m\"\u001b[39m)\n",
      "\u001b[1;31mValueError\u001b[0m: cannot reshape array of size 30 into shape (4,7)"
     ]
    }
   ],
   "source": [
    "import numpy as np\n",
    "\n",
    "\n",
    "daily_temperatures = np.random.randint(15, 36, 30)\n",
    "print(\"Daily temperatures for the month:\")\n",
    "print(daily_temperatures)\n",
    "\n",
    "\n",
    "weekly_temperatures = daily_temperatures.reshape(4, 7)\n",
    "\n",
    "\n",
    "weekly_averages = np.mean(weekly_temperatures, axis=1)\n",
    "\n",
    "print(\"\\nWeekly averages of temperatures:\")\n",
    "print(weekly_averages)\n"
   ]
  },
  {
   "cell_type": "code",
   "execution_count": null,
   "id": "5b4d2a01-60c9-454c-969e-8b9df06d0840",
   "metadata": {},
   "outputs": [],
   "source": []
  }
 ],
 "metadata": {
  "kernelspec": {
   "display_name": "Python 3 (ipykernel)",
   "language": "python",
   "name": "python3"
  },
  "language_info": {
   "codemirror_mode": {
    "name": "ipython",
    "version": 3
   },
   "file_extension": ".py",
   "mimetype": "text/x-python",
   "name": "python",
   "nbconvert_exporter": "python",
   "pygments_lexer": "ipython3",
   "version": "3.12.4"
  }
 },
 "nbformat": 4,
 "nbformat_minor": 5
}
