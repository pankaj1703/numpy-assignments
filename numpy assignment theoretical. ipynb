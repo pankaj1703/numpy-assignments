{
 "cells": [
  {
   "cell_type": "raw",
   "id": "1cf2bd92-29be-4205-aa3f-05ad60306ecf",
   "metadata": {},
   "source": [
    "1. Explain the purpose and advantages of NumPy in scientific computing and data analysis. How does it\n",
    "enhance Python's capabilities for numerical operations?\n",
    "\n",
    "\n"
   ]
  },
  {
   "cell_type": "raw",
   "id": "3b0757d6-d87c-4baf-af34-3e4135eb2451",
   "metadata": {},
   "source": [
    "Answer:- Features and Functionalities\n",
    "i) Array Creation: Creating NumPy arrays is straightforward and efficient. Users can initialize arrays from lists or use predefined functions like np.zeros(), np.ones(), or np.arange(). These arrays can be easily reshaped and manipulated to suit various mathematical operations and data transformations.\n",
    "ii) Mathematical Operations: NumPy provides a comprehensive suite of mathematical functions, enabling users to perform addition, subtraction, multiplication, and more on arrays. Broadcasting, a key feature, simplifies operations between arrays of different shapes, enhancing code efficiency and readability.\n",
    "iii)  Universal Functions (ufuncs): NumPy’s funcs operate element-wise on arrays, facilitating fast computations across entire arrays without explicit looping. Functions like np.sin(), np.cos(), np.exp(), and np.sqrt() expedite complex mathematical calculations efficiently.\n",
    "iV) Array Indexing and Slicing: NumPy supports powerful indexing and slicing capabilities similar to Python lists but with additional features like multidimensional indexing and boolean array indexing. This robust indexing system allows for advanced data manipulation and extraction.\n",
    "v)  Broadcasting: One of NumPy’s significant strengths is its broadcasting functionality, extending the capabilities of ufuncs by enabling operations between arrays of different shapes. NumPy automatically aligns arrays to perform element-wise operations, producing concise and efficient code.\n",
    "vi) Memory Management and Performance: NumPy arrays use contiguous memory blocks, reducing overhead compared to Python lists. This memory efficiency is crucial when handling extensive datasets and contributes to faster data access and manipulation. Moreover, NumPy’s array operations execute at compiled C speed, significantly faster than equivalent Python code using lists."
   ]
  },
  {
   "cell_type": "raw",
   "id": "70c7fe4a-1b8c-4923-bed1-a5d3645c2756",
   "metadata": {},
   "source": [
    "2. Compare and contrast np.mean() and np.average() functions in NumPy. When would you use one over the\n",
    "other?"
   ]
  },
  {
   "cell_type": "raw",
   "id": "d378f0f5-091b-4949-8c17-330678733130",
   "metadata": {},
   "source": [
    "Answer:-\n",
    "         In the Numpy library, there are two functions np.mean() and np.average() are present. Both are actually doing nearly the same job of calculating mean/average. The difference comes when we are calculating the weighted average. If that is the case then we have to use np.average(). With np.average function we can calculate both arithmetic mean and weighted average. In this article, we have shown the basic use case of both functions and how they are different from each other.\n",
    "\n",
    "1) np.mean()\n",
    "In numpy library, np.mean() is a function used to calculate arithmetic mean of the given array along with the axis. Lets see the code implementation\n",
    "\n",
    "2)np.average()\n",
    "The arithmetic mean and weighted average calculations are more flexible with np.average(). It can calculate the weighted average if we pass the weight; if not, it returns the same value as np.mean(). This implies that the arithmetic mean is the result when we do not pass the weight condition. So let’s jump into implementing the code right away. So here goes the code."
   ]
  },
  {
   "cell_type": "raw",
   "id": "29fffdec-37ad-4d80-a67a-59cf2100f5b8",
   "metadata": {},
   "source": [
    "3. Describe the methods for reversing a NumPy array along different axes. Provide examples for 1D and 2D\n",
    "arrays."
   ]
  },
  {
   "cell_type": "raw",
   "id": "0a639b9c-092e-41d4-81ce-16669f1bb181",
   "metadata": {},
   "source": [
    "Answer:- Numpy is a general-purpose array-processing package that provides a high-performance multidimensional array object, and tools for working with these arrays. Let’s discuss how can we reverse a Numpy array. \n",
    "\n",
    "Using flip() function to Reverse a Numpy array\n",
    "The numpy.flip() function reverses the order of array elements along the specified axis, preserving the shape of the array.\n",
    "\n",
    "Using the list slicing method to reverse a Numpy array\n",
    "This method makes a copy of the list instead of sorting it in order. To accommodate all of the current components, making a clone requires additional room. More RAM is used up in this way. Here, we’re utilizing Python’s slicing method to invert our list.\n",
    "\n",
    "\n",
    "Using flipud function to Reverse a Numpy array \n",
    "The numpy.flipud() function flips the array(entries in each column) in up-down direction, shape preserved.\n",
    "\n",
    "\n"
   ]
  },
  {
   "cell_type": "raw",
   "id": "1ec81bfb-0239-4ec8-bca4-e677060f324f",
   "metadata": {},
   "source": [
    "4. How can you determine the data type of elements in a NumPy array? Discuss the importance of data types\n",
    "in memory management and performance."
   ]
  },
  {
   "cell_type": "raw",
   "id": "c4c0f2ac-b7e4-4de4-99ed-25fa7af322a2",
   "metadata": {},
   "source": [
    "Answer:-\n",
    "          We can check the datatype of Numpy array by using dtype. Then it returns the data type all the elements in the array. In the given example below we import NumPy library and craete an array using “array()” method with integer value.\n",
    "\n",
    "Checking the Data Type of NumPy Array\n",
    "We can check the datatype of Numpy array by using dtype. Then it returns the data type all the elements in the array. In the given example below we import NumPy library and craete an array using “array()” method with integer value. Then we store the data type of the array in a variable named “data_type” using the ‘dtype’ attribute, and after then we can finally, we print the data type.\n",
    "\n",
    "Create Arrays With a Defined Data Type\n",
    "We can create an array with a defined data type by specifying “dtype” attribute in numpy.array() method while initializing an array. In the below code we have created various types of defined arrays such as ‘float64’, ‘int32’, ‘complex128’, and ‘bool’."
   ]
  },
  {
   "cell_type": "raw",
   "id": "a617b462-e453-4303-b2fd-d90a80570cee",
   "metadata": {},
   "source": [
    "5. Define ndarrays in NumPy and explain their key features. How do they differ from standard Python lis\n",
    "\n"
   ]
  },
  {
   "cell_type": "raw",
   "id": "7bec6ffe-29b5-44f5-a8f6-8452b6f65d15",
   "metadata": {},
   "source": [
    "Answer:-   \n",
    "          The N-dimensional array (ndarray)\n",
    "An ndarray is a (usually fixed-size) multidimensional container of items of the same type and size. The number of dimensions and items in an array is defined by its shape, which is a tuple of N non-negative integers that specify the sizes of each dimension. The type of items in the array is specified by a separate data-type object (dtype), one of which is associated with each ndarray.\n",
    "\n",
    "As with other container objects in Python, the contents of an ndarray can be accessed and modified by indexing or slicing the array (using, for example, N integers), and via the methods and attributes of the ndarray.\n",
    "\n",
    "Different ndarrays can share the same data, so that changes made in one ndarray may be visible in another. That is, an ndarray can be a “view” to another ndarray, and the data it is referring to is taken care of by the “base” ndarray. ndarrays can also be views to memory owned by Python strings or objects implementing the memoryview or array interfaces.\n"
   ]
  },
  {
   "cell_type": "raw",
   "id": "0cc9e98a-1ec9-44a8-8dab-628634853ae2",
   "metadata": {},
   "source": [
    "6. Analyze the performance benefits of NumPy arrays over Python lists for large-scale numerical opera"
   ]
  },
  {
   "cell_type": "raw",
   "id": "d45d8bf9-39a3-4a72-a2fa-a52bccb7ef29",
   "metadata": {},
   "source": [
    "Answer:-\n",
    "          NumPy arrays provide a significant speed advantage over traditional lists. This is because NumPy is built in C and uses optimized, pre-compiled code for numerical operations. This allows for vectorization, which means operations are applied to all elements in an array without the need for explicit loops in Python.\n",
    "\n",
    "The reason is that numpy offloads the heavy lifting to highly optimized C and Fortran libraries, which can process data much faster than Python's loop constructs. By avoiding explicit loops, you minimize the number of interpreted instructions and take advantage of modern CPUs' parallel processing capabilities.\n",
    "\n",
    "Memory Efficient: Arrays are more memory efficient than lists for storing large collections of data of the same type. Mutable: Arrays are mutable, meaning you can modify their content after creation. However, the type of elements they store remains consistent."
   ]
  },
  {
   "cell_type": "raw",
   "id": "c7a92c34-20d6-4d89-a582-008e573556d8",
   "metadata": {},
   "source": [
    "7. Compare vstack() and hstack() functions in NumPy. Provide examples demonstrating their usage and\n",
    "output."
   ]
  },
  {
   "cell_type": "raw",
   "id": "408034f5-0f7d-46d7-a90b-ad0c794086e7",
   "metadata": {},
   "source": [
    "Answer:-numpy.hstack() function is used to stack the sequence of input arrays horizontally (i.e. column wise) to make a single array."
   ]
  },
  {
   "cell_type": "code",
   "execution_count": 1,
   "id": "6e4994d7-2065-4803-9591-e695d800999a",
   "metadata": {},
   "outputs": [
    {
     "name": "stdout",
     "output_type": "stream",
     "text": [
      "1st Input array : \n",
      " [1 2 3]\n",
      "2nd Input array : \n",
      " [4 5 6]\n",
      "Output horizontally stacked array:\n",
      "  [1 2 3 4 5 6]\n"
     ]
    }
   ],
   "source": [
    "import numpy as geek \n",
    "   \n",
    "in_arr1 = geek.array([ 1, 2, 3] ) \n",
    "print (\"1st Input array : \\n\", in_arr1)  \n",
    "  \n",
    "in_arr2 = geek.array([ 4, 5, 6] ) \n",
    "print (\"2nd Input array : \\n\", in_arr2)  \n",
    "  \n",
    "\n",
    "out_arr = geek.hstack((in_arr1, in_arr2)) \n",
    "print (\"Output horizontally stacked array:\\n \", out_arr) "
   ]
  },
  {
   "cell_type": "raw",
   "id": "e19cfdbb-d2bf-4c84-8aea-cc8f07979e1f",
   "metadata": {},
   "source": [
    "8. Explain the differences between fliplr() and flipud() methods in NumPy, including their effects on various\n",
    "array dimensions."
   ]
  },
  {
   "cell_type": "raw",
   "id": "25ca14fb-bd6f-408d-b132-37f2dbacd0ae",
   "metadata": {},
   "source": [
    "Answer:-\n",
    "         In NumPy dimensions are called axes. For example, the array for the coordinates of a point in 3D space, [1, 2, 1] , has one axis. That axis has 3 elements in it, so we say it has a length of 3. In the example pictured below, the array has 2 axes.\n",
    "\n",
    "The basics\n",
    "NumPy’s main object is the homogeneous multidimensional array. It is a table of elements (usually numbers), all of the same type, indexed by a tuple of non-negative integers. In NumPy dimensions are called axes.\n",
    "\n",
    "For example, the array for the coordinates of a point in 3D space, [1, 2, 1], has one axis. That axis has 3 elements in it, so we say it has a length of 3. In the example pictured below, the array has 2 axes. The first axis has a length of 2, the second axis has a length of 3."
   ]
  },
  {
   "cell_type": "raw",
   "id": "8dcf0f01-9791-4953-bd69-936debd23017",
   "metadata": {},
   "source": [
    "9. Discuss the functionality of the array_split() method in NumPy. How does it handle uneven splits?"
   ]
  },
  {
   "cell_type": "raw",
   "id": "d86dca13-5e9e-4204-a4a9-309daabd53ff",
   "metadata": {},
   "source": [
    "Answer:-\n",
    "         array_split() s plitting into equal or nearly equal sub-arrays or is similar to numpy. split(), but it allows for uneven splitting of arrays. This is useful when the array cannot be evenly divided by the specified number of splits.\n",
    "\n",
    "Splitting Arrays inNumPy :-\n",
    "                             arrays are an essential tool for scientific computing. However, at times, it becomes necessary to manipulate and analyze specific parts of the data. This is where array splitting comes into play, allowing you to break down an array into smaller sub-arrays, making the data more manageable. It is similar to slicing but on a larger scale. NumPy provides various methods that are specifically designed for different use cases and scenarios. \n",
    "\n",
    "NumPy Splitting array:-\n",
    "                        are an essential tool for scientific computing. However, at times, it becomes necessary to manipulate and analyze specific parts of the data. This is where array splitting comes into play, allowing you to break down an array into smaller sub-arrays, making the data more manageable. It is similar to slicing but on a larger scale. NumPy provides various methods that are specifically designed for different use cases and scenarios."
   ]
  },
  {
   "cell_type": "raw",
   "id": "91e21b65-75e9-4a51-a4a1-40a103ccb996",
   "metadata": {},
   "source": [
    "10. Explain the concepts of vectorization and broadcasting in NumPy. How do they contribute to efficient array\n",
    "operations?"
   ]
  },
  {
   "cell_type": "raw",
   "id": "b26e1916-74a8-493e-ab51-a297ed1f6819",
   "metadata": {},
   "source": [
    "Answer:- \n",
    "         Broadcasting provides a means for vectorizing the array operations so that looping would take place in C. It is a mechanism used by Numpy when it has to perform arithmetic operations on arrays with different shapes. Usual numpy broadcasting operations on two arrays are done on an element-by-element basis.\n",
    "\n",
    "Broadcasting in NumPy is a powerful feature that allows NumPy to work with arrays of different shapes when performing arithmetic operations. It does this by ‘broadcasting’ the smaller array across the larger one so they have compatible shapes.\n",
    "\n",
    "Imagine you’re a teacher who wants to add five points to each student’s test score. With broadcasting, you can do this without writing a loop.\n",
    "\n",
    "Python For Loops v/s NumPy Vectorization:-\n",
    "If we want to apply an operation to each item of a python list, one straightforward way to do so is using a for a loop. However, if we know that all the elements of the list will be of the same data type, then using a ndarray will prove more beneficial since the time to complete the whole operation will be much less."
   ]
  }
 ],
 "metadata": {
  "kernelspec": {
   "display_name": "Python 3 (ipykernel)",
   "language": "python",
   "name": "python3"
  },
  "language_info": {
   "codemirror_mode": {
    "name": "ipython",
    "version": 3
   },
   "file_extension": ".py",
   "mimetype": "text/x-python",
   "name": "python",
   "nbconvert_exporter": "python",
   "pygments_lexer": "ipython3",
   "version": "3.12.4"
  }
 },
 "nbformat": 4,
 "nbformat_minor": 5
}
